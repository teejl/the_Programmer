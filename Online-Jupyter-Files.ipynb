{
 "cells": [
  {
   "cell_type": "markdown",
   "metadata": {},
   "source": [
    "# Using Python Notebook via the Website"
   ]
  },
  {
   "cell_type": "markdown",
   "metadata": {},
   "source": [
    "I thought I would make a breif introduction on how to make a file on Jupyter.org without having to install anaconda. First just simply go to Jupyter.org, scroll down, and select \"try in browser\". Now be aware it will not keep your saved files, so every time you make a new file/edit an existing file you will need to download as a .ipyn and upload for every session you work online. \n",
    "\n",
    "I think Python notebooks are great for experimenting/tracking progress and using local computers. When coding, everything that I tend to work on can be forgotten. Which is terrible! This is also a good method for anyone who wants to use python, but has to use a local computer faces restrictions. However with the combination of .txt files and Jupyter this should easily be overcome."
   ]
  },
  {
   "cell_type": "code",
   "execution_count": 1,
   "metadata": {},
   "outputs": [
    {
     "name": "stdout",
     "output_type": "stream",
     "text": [
      "Goodbye!\n"
     ]
    }
   ],
   "source": [
    "print(\"Goodbye!\")"
   ]
  },
  {
   "cell_type": "code",
   "execution_count": null,
   "metadata": {},
   "outputs": [],
   "source": []
  }
 ],
 "metadata": {
  "kernelspec": {
   "display_name": "Python 3",
   "language": "python",
   "name": "python3"
  },
  "language_info": {
   "codemirror_mode": {
    "name": "ipython",
    "version": 3
   },
   "file_extension": ".py",
   "mimetype": "text/x-python",
   "name": "python",
   "nbconvert_exporter": "python",
   "pygments_lexer": "ipython3",
   "version": "3.6.4"
  }
 },
 "nbformat": 4,
 "nbformat_minor": 2
}
