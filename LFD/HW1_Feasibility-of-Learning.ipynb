{
 "cells": [
  {
   "cell_type": "markdown",
   "metadata": {},
   "source": [
    "## Feasibility of Learning\n",
    "Consider a Boolean target function over a 3-dimensional input space X = f0; 1g3\n",
    "(instead of our \u00061 binary convention, we use 0,1 here since it is standard for Boolean\n",
    "functions). We are given a data set D of \f",
    "ve examples represented in the table below,\n",
    "where yn = f(xn) for n = 1; 2; 3; 4; 5.\n",
    "xn yn\n",
    "0 0 0 0\n",
    "0 0 1 1\n",
    "0 1 0 1\n",
    "0 1 1 0\n",
    "1 0 0 1\n",
    "Note that in this simple Boolean case, we can enumerate the entire input space (since\n",
    "there are only 23 = 8 distinct input vectors), and we can enumerate the set of all\n",
    "possible target functions (there are only 223 = 256 distinct Boolean function on 3\n",
    "Boolean inputs).\n",
    "Let us look at the problem of learning f. Since f is unknown except inside D, any\n",
    "function that agrees with D could conceivably be f. Since there are only 3 points in\n",
    "X outside D, there are only 23 = 8 such functions.\n",
    "The remaining points in X which are not in D are: 101, 110, and 111. We want to\n",
    "determine the hypothesis that agrees the most with the possible target functions. In\n",
    "order to quantify this, count how many of the 8 possible target functions agree with\n",
    "each hypothesis on all 3 points, how many agree on just 2 of the points, on just 1\n",
    "point, and how many do not agree on any points. The \f",
    "nal score for each hypothesis\n",
    "is computed as follows:\n",
    "Score = (# of target functions agreeing with hypothesis on all 3 points)\u00023 + (#\n",
    "of target functions agreeing with hypothesis on exactly 2 points)\u00022 + (# of target\n",
    "functions agreeing with hypothesis on exactly 1 point)\u00021 + (# of target functions\n",
    "agreeing with hypothesis on 0 points)\u00020.\n",
    "6. Which hypothesis g agrees the most with the possible target functions in terms\n",
    "of the above score?\n",
    "[a] g returns 1 for all three points.\n",
    "[b] g returns 0 for all three points.\n",
    "[c] g is the XOR function applied to x, i.e., if the number of 1s in x is odd, g\n",
    "returns 1; if it is even, g returns 0.\n",
    "[d] g returns the opposite of the XOR function: if the number of 1s is odd, it\n",
    "returns 0, otherwise returns 1.\n",
    "[e] They are all equivalent (equal scores for g in [a] through [d])."
   ]
  },
  {
   "cell_type": "code",
   "execution_count": null,
   "metadata": {},
   "outputs": [],
   "source": []
  }
 ],
 "metadata": {
  "kernelspec": {
   "display_name": "Python 3",
   "language": "python",
   "name": "python3"
  },
  "language_info": {
   "codemirror_mode": {
    "name": "ipython",
    "version": 3
   },
   "file_extension": ".py",
   "mimetype": "text/x-python",
   "name": "python",
   "nbconvert_exporter": "python",
   "pygments_lexer": "ipython3",
   "version": "3.6.4"
  }
 },
 "nbformat": 4,
 "nbformat_minor": 2
}
