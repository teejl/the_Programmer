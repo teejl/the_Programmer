{
 "cells": [
  {
   "cell_type": "markdown",
   "metadata": {},
   "source": [
    "## Bins and Marbles\n",
    "3. We have 2 opaque bags, each containing 2 balls. One bag has 2 black balls and\n",
    "the other has a black ball and a white ball. You pick a bag at random and\n",
    "then pick one of the balls in that bag at random. When you look at the ball,\n",
    "it is black. You now pick the second ball from that same bag. What is the\n",
    "probability that this ball is also black?\n",
    "[a] 1=4\n",
    "[b] 1=3\n",
    "[c] 1=2\n",
    "[d] 2=3\n",
    "[e] 3=4\n",
    "Consider a sample of 10 marbles drawn from a bin containing red and green marbles.\n",
    "The probability that any marble we draw is red is \u0016 = 0:55 (independently, with\n",
    "replacement). We address the probability of getting no red marbles (\u0017 = 0) in the\n",
    "following cases:\n",
    "4. We draw only one such sample. Compute the probability that \u0017 = 0. The\n",
    "closest answer is (`closest answer' means: jyour answer􀀀given optionj is closest\n",
    "to 0):\n",
    "[a] 7:331 \u0002 10􀀀6\n",
    "[b] 3:405 \u0002 10􀀀4\n",
    "[c] 0:289\n",
    "[d] 0:450\n",
    "[e] 0:550\n",
    "5. We draw 1,000 independent samples. Compute the probability that (at least)\n",
    "one of the samples has \u0017 = 0. The closest answer is:\n",
    "[a] 7:331 \u0002 10􀀀6\n",
    "[b] 3:405 \u0002 10􀀀4\n",
    "[c] 0:289\n",
    "[d] 0:450\n",
    "[e] 0:550"
   ]
  },
  {
   "cell_type": "markdown",
   "metadata": {},
   "source": [
    "$\\sigma$"
   ]
  },
  {
   "cell_type": "code",
   "execution_count": 5,
   "metadata": {},
   "outputs": [
    {
     "data": {
      "text/latex": [
       "$\\int$"
      ],
      "text/plain": [
       "<IPython.core.display.Latex object>"
      ]
     },
     "metadata": {},
     "output_type": "display_data"
    }
   ],
   "source": [
    "%%latex\n",
    "$\\int$"
   ]
  },
  {
   "cell_type": "code",
   "execution_count": 4,
   "metadata": {},
   "outputs": [
    {
     "data": {
      "text/latex": [
       "\\begin{align}\n",
       "\\nabla \\times \\vec{\\mathbf{B}} -\\, \\frac1c\\, \\frac{\\partial\\vec{\\mathbf{E}}}{\\partial t} & = \\frac{4\\pi}{c}\\vec{\\mathbf{j}} \\\\\n",
       "\\nabla \\cdot \\vec{\\mathbf{E}} & = 4 \\pi \\rho \\\\\n",
       "\\nabla \\times \\vec{\\mathbf{E}}\\, +\\, \\frac1c\\, \\frac{\\partial\\vec{\\mathbf{B}}}{\\partial t} & = \\vec{\\mathbf{0}} \\\\\n",
       "\\nabla \\cdot \\vec{\\mathbf{B}} & = 0\n",
       "\\int \\\\\n",
       "\\end{align}"
      ],
      "text/plain": [
       "<IPython.core.display.Latex object>"
      ]
     },
     "metadata": {},
     "output_type": "display_data"
    }
   ],
   "source": [
    "%%latex\n",
    "\\begin{align}\n",
    "\\nabla \\times \\vec{\\mathbf{B}} -\\, \\frac1c\\, \\frac{\\partial\\vec{\\mathbf{E}}}{\\partial t} & = \\frac{4\\pi}{c}\\vec{\\mathbf{j}} \\\\\n",
    "\\nabla \\cdot \\vec{\\mathbf{E}} & = 4 \\pi \\rho \\\\\n",
    "\\nabla \\times \\vec{\\mathbf{E}}\\, +\\, \\frac1c\\, \\frac{\\partial\\vec{\\mathbf{B}}}{\\partial t} & = \\vec{\\mathbf{0}} \\\\\n",
    "\\nabla \\cdot \\vec{\\mathbf{B}} & = 0\n",
    "\\int \\\\\n",
    "\\end{align}"
   ]
  },
  {
   "cell_type": "code",
   "execution_count": null,
   "metadata": {},
   "outputs": [],
   "source": []
  }
 ],
 "metadata": {
  "kernelspec": {
   "display_name": "Python 3",
   "language": "python",
   "name": "python3"
  },
  "language_info": {
   "codemirror_mode": {
    "name": "ipython",
    "version": 3
   },
   "file_extension": ".py",
   "mimetype": "text/x-python",
   "name": "python",
   "nbconvert_exporter": "python",
   "pygments_lexer": "ipython3",
   "version": "3.6.4"
  }
 },
 "nbformat": 4,
 "nbformat_minor": 2
}
