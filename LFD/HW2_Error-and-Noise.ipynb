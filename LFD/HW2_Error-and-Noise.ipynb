{
 "cells": [
  {
   "cell_type": "markdown",
   "metadata": {},
   "source": [
    "## Error and Noise\n",
    "\n",
    "Consider the bin model for a hypothesis h that makes an error with probability \u0016 in\n",
    "approximating a deterministic target function f (both h and f are binary functions).\n",
    "If we use the same h to approximate a noisy version of f given by:\n",
    "P(y j x) =\n",
    "\u001a\n",
    "\u0015 y = f(x)\n",
    "1 􀀀 \u0015 y 6= f(x)"
   ]
  },
  {
   "cell_type": "markdown",
   "metadata": {},
   "source": [
    "3. What is the probability of error that h makes in approximating y? Hint: Two\n",
    "wrongs can make a right!\n",
    "2\n",
    "[a] \u0016\n",
    "[b] \u0015\n",
    "[c] 1-\u0016\n",
    "[d] (1 􀀀 \u0015) \u0003 \u0016 + \u0015 \u0003 (1 􀀀 \u0016)\n",
    "[e] (1 􀀀 \u0015) \u0003 (1 􀀀 \u0016) + \u0015 \u0003 \u0016\n",
    "4. At what value of \u0015 will the performance of h be independent of \u0016?\n",
    "[a] 0\n",
    "[b] 0.5\n",
    "[c] 1=\n",
    "p\n",
    "2\n",
    "[d] 1\n",
    "[e] No values of \u0015"
   ]
  },
  {
   "cell_type": "code",
   "execution_count": null,
   "metadata": {},
   "outputs": [],
   "source": []
  }
 ],
 "metadata": {
  "kernelspec": {
   "display_name": "Python 3",
   "language": "python",
   "name": "python3"
  },
  "language_info": {
   "codemirror_mode": {
    "name": "ipython",
    "version": 3
   },
   "file_extension": ".py",
   "mimetype": "text/x-python",
   "name": "python",
   "nbconvert_exporter": "python",
   "pygments_lexer": "ipython3",
   "version": "3.6.4"
  }
 },
 "nbformat": 4,
 "nbformat_minor": 2
}
