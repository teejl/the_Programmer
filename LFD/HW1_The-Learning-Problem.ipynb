{
 "cells": [
  {
   "cell_type": "markdown",
   "metadata": {},
   "source": [
    "## The Learning Problem\n",
    "1. What types of Machine Learning, if any, best describe the following three sce-\n",
    "narios:\n",
    "(i) A coin classi\f",
    "cation system is created for a vending machine. The de-\n",
    "velopers obtain exact coin speci\f",
    "cations from the U.S. Mint and derive\n",
    "a statistical model of the size, weight, and denomination, which the vend-\n",
    "ing machine then uses to classify coins.\n",
    "(ii) Instead of calling the U.S. Mint to obtain coin information, an algorithm is\n",
    "presented with a large set of labeled coins. The algorithm uses this data to\n",
    "infer decision boundaries which the vending machine then uses to classify\n",
    "its coins.\n",
    "(iii) A computer develops a strategy for playing Tic-Tac-Toe by playing repeat-\n",
    "edly and adjusting its strategy by penalizing moves that eventually lead\n",
    "to losing.\n",
    "[a] (i) Supervised Learning, (ii) Unsupervised Learning, (iii) Reinforcement\n",
    "Learning\n",
    "[b] (i) Supervised Learning, (ii) Not learning, (iii) Unsupervised Learning\n",
    "[c] (i) Not learning, (ii) Reinforcement Learning, (iii) Supervised Learning\n",
    "[d] (i) Not learning, (ii) Supervised Learning, (iii) Reinforcement Learning\n",
    "[e] (i) Supervised Learning, (ii) Reinforcement Learning, (iii) Unsupervised\n",
    "Learning\n",
    "2. Which of the following problems are best suited for Machine Learning?\n",
    "(i) Classifying numbers into primes and non-primes.\n",
    "(ii) Detecting potential fraud in credit card charges.\n",
    "(iii) Determining the time it would take a falling object to hit the ground.\n",
    "(iv) Determining the optimal cycle for tra\u000ec lights in a busy intersection.\n",
    "[a] (ii) and (iv)\n",
    "[b] (i) and (ii)\n",
    "[c] (i), (ii), and (iii)\n",
    "[d] (iii)\n",
    "[e] (i) and (iii)"
   ]
  },
  {
   "cell_type": "code",
   "execution_count": null,
   "metadata": {},
   "outputs": [],
   "source": []
  }
 ],
 "metadata": {
  "kernelspec": {
   "display_name": "Python 3",
   "language": "python",
   "name": "python3"
  },
  "language_info": {
   "codemirror_mode": {
    "name": "ipython",
    "version": 3
   },
   "file_extension": ".py",
   "mimetype": "text/x-python",
   "name": "python",
   "nbconvert_exporter": "python",
   "pygments_lexer": "ipython3",
   "version": "3.6.4"
  }
 },
 "nbformat": 4,
 "nbformat_minor": 2
}
