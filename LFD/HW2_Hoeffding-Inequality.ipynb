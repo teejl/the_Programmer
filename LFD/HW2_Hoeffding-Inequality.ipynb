{
 "cells": [
  {
   "cell_type": "markdown",
   "metadata": {},
   "source": [
    "## Hoeffding Inequality"
   ]
  },
  {
   "cell_type": "markdown",
   "metadata": {},
   "source": [
    "Run a Computer simulation for flipping 1,000 virtual fair coins. Flip each coin independently 10 times. Focus on 3 coins as follows: $c_1$ is the first coin flipped, $c_{\\text{rand}}$ is a coin chosen randomly from the 1,000, and $c_{\\text{min}}$ is the coin which had the minimum frequency of heads (pick the earlier one in case of a tie). Let $v_1$, $v_{\\text{rand}}$, and $v_{\\text{min}}$ be the <em>fraction</em> of heads obtained for the 3 respective coins out of the 10 tosses.\n",
    "\n",
    "Run the experiment 100,000 times in order to get a full distribution of $v_1$, $v_{\\text{rand}}$, and $v_{\\text{min}}$ (note that $c_{\\text{rand}}$ and $c_{\\text{min}}$ will change from run to run)."
   ]
  },
  {
   "cell_type": "markdown",
   "metadata": {},
   "source": [
    "___\n",
    "\n",
    "*We want to run this experiment, but first let's bring up some helpful definitions:*\n",
    "\n",
    "**Random Variable** (http://mathworld.wolfram.com/RandomVariable.html)\n",
    "\n",
    "A random variable is a measurable function from a probability space (S,S,P) into a measurable space (S^',S^') known as the state space (Doob 1996). Papoulis (1984, p. 88) gives the slightly different definition of a random variable X as a real function whose domain is the probability space S and such that:\n",
    "\n",
    "1. The set {X<=x} is an event for any real number x.\n",
    "\n",
    "2. The probability of the events {X=+infty} and {X=-infty} equals zero.\n",
    "\n",
    "The abbreviation \"r.v.\" is sometimes used to denote a random variable.\n",
    "\n",
    "___"
   ]
  },
  {
   "cell_type": "markdown",
   "metadata": {},
   "source": [
    "Each $c_\\text{i}$ and $v_\\text{i}$ are random variables. To be more specific it is the number of heads that come up for 10 coin tosses. Assuming the coin is fair the chances to land on a head is the same to land on a tail, $1/2$. Let us simulate this random variable with some cute Python code."
   ]
  },
  {
   "cell_type": "code",
   "execution_count": 19,
   "metadata": {
    "collapsed": true
   },
   "outputs": [],
   "source": [
    "# Import Packages\n",
    "import numpy as np"
   ]
  },
  {
   "cell_type": "code",
   "execution_count": 20,
   "metadata": {},
   "outputs": [
    {
     "data": {
      "text/plain": [
       "3"
      ]
     },
     "execution_count": 20,
     "metadata": {},
     "output_type": "execute_result"
    }
   ],
   "source": [
    "# Simulate a single random variable, number of heads on 10 coin flips\n",
    "np.random.randint(0,2,10).sum()"
   ]
  },
  {
   "cell_type": "code",
   "execution_count": 21,
   "metadata": {},
   "outputs": [
    {
     "data": {
      "text/plain": [
       "array([[0, 1, 1, ..., 1, 0, 0],\n",
       "       [0, 1, 1, ..., 0, 0, 1],\n",
       "       [0, 1, 0, ..., 0, 1, 0],\n",
       "       ..., \n",
       "       [0, 0, 0, ..., 0, 1, 1],\n",
       "       [1, 0, 1, ..., 1, 0, 0],\n",
       "       [0, 0, 1, ..., 0, 0, 0]])"
      ]
     },
     "execution_count": 21,
     "metadata": {},
     "output_type": "execute_result"
    }
   ],
   "source": [
    "# Simulate 1000 random variables described above\n",
    "np.random.randint(0,2, (10,1000))"
   ]
  },
  {
   "cell_type": "markdown",
   "metadata": {},
   "source": [
    "\n",
    "* The average value of $v_\\text{min}$ is closest to:\n",
    "\n",
    "    [a] 0\n",
    "    \n",
    "    [b] 0.01\n",
    "    \n",
    "    [c] 0.1\n",
    "    \n",
    "    [d] 0.5\n",
    "    \n",
    "    [e] 0.67"
   ]
  },
  {
   "cell_type": "markdown",
   "metadata": {},
   "source": [
    "* Which coin(s) has a distribution of $v$ that satisfies the (single-bin) Hoeffding Inequality?\n",
    "\n",
    "    [a] $c_1$ only\n",
    "    \n",
    "    [b] $c_\\text{rand}$ only\n",
    "    \n",
    "    [c] $c_\\text{min}$ only\n",
    "    \n",
    "    [d] $c_1$ and $c_\\text{rand}$\n",
    "    \n",
    "    [e] $c_\\text{min}$ and $c_\\text{rand}"
   ]
  },
  {
   "cell_type": "code",
   "execution_count": null,
   "metadata": {
    "collapsed": true
   },
   "outputs": [],
   "source": []
  }
 ],
 "metadata": {
  "kernelspec": {
   "display_name": "Python 3",
   "language": "python",
   "name": "python3"
  },
  "language_info": {
   "codemirror_mode": {
    "name": "ipython",
    "version": 3
   },
   "file_extension": ".py",
   "mimetype": "text/x-python",
   "name": "python",
   "nbconvert_exporter": "python",
   "pygments_lexer": "ipython3",
   "version": "3.6.2"
  }
 },
 "nbformat": 4,
 "nbformat_minor": 2
}
