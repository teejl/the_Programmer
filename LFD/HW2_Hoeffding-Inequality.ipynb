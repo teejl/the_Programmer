{
 "cells": [
  {
   "cell_type": "markdown",
   "metadata": {},
   "source": [
    "## Hoeffding Inequality"
   ]
  },
  {
   "cell_type": "markdown",
   "metadata": {},
   "source": [
    "Run a Computer simulation for flipping 1,000 virtual fair coins. Flip each coin independently 10 times. Focus on 3 coins as follows: $c_1$ is the first coin flipped, $c_{\\text{rand}}$ is a coin chosen randomly from the 1,000, and $c_{\\text{min}}$ is the coin which had the minimum frequency of heads (pick the earlier one in case of a tie). Let $v_1$, $v_{\\text{rand}}$, and $v_{\\text{min}}$ be the <em>fraction</em> of heads obtained for the 3 respective coins out of the 10 tosses.\n",
    "\n",
    "Run the experiment 100,000 times in order to get a full distribution of $v_1$, $v_{\\text{rand}}$, and $v_{\\text{min}}$ (note that $c_{\\text{rand}}$ and $c_{\\text{min}}$ will change from run to run)."
   ]
  },
  {
   "cell_type": "markdown",
   "metadata": {},
   "source": [
    "___\n",
    "\n",
    "*We want to run this experiment, but first let's bring up some helpful definitions:*\n",
    "\n",
    "**Random Variable** (http://mathworld.wolfram.com/RandomVariable.html)\n",
    "\n",
    "A random variable is a measurable function from a probability space (S,S,P) into a measurable space (S^',S^') known as the state space (Doob 1996). Papoulis (1984, p. 88) gives the slightly different definition of a random variable X as a real function whose domain is the probability space S and such that:\n",
    "\n",
    "1. The set {X<=x} is an event for any real number x.\n",
    "\n",
    "2. The probability of the events {X=+infty} and {X=-infty} equals zero.\n",
    "\n",
    "The abbreviation \"r.v.\" is sometimes used to denote a random variable.\n",
    "\n",
    "___"
   ]
  },
  {
   "cell_type": "markdown",
   "metadata": {},
   "source": [
    "Each $c_\\text{i}$ and $v_\\text{i}$ are random variables. To be more specific it is the number of heads that come up for 10 coin tosses. Assuming the coin is fair the chances to land on a head is the same to land on a tail, $1/2$. Let us simulate this random variable with some cute Python code."
   ]
  },
  {
   "cell_type": "code",
   "execution_count": 16,
   "metadata": {},
   "outputs": [],
   "source": [
    "# Import Packages\n",
    "import numpy as np\n",
    "import matplotlib.pyplot as plt\n",
    "%matplotlib inline"
   ]
  },
  {
   "cell_type": "code",
   "execution_count": 5,
   "metadata": {},
   "outputs": [
    {
     "data": {
      "text/plain": [
       "7"
      ]
     },
     "execution_count": 5,
     "metadata": {},
     "output_type": "execute_result"
    }
   ],
   "source": [
    "# Simulate a single random variable, number of heads on 10 coin flips\n",
    "np.random.randint(0,2,10).sum()"
   ]
  },
  {
   "cell_type": "code",
   "execution_count": 10,
   "metadata": {},
   "outputs": [
    {
     "data": {
      "text/plain": [
       "array([[1, 1, 0, ..., 0, 0, 0],\n",
       "       [1, 0, 1, ..., 0, 0, 0],\n",
       "       [0, 1, 0, ..., 0, 1, 0],\n",
       "       ..., \n",
       "       [0, 1, 0, ..., 0, 0, 0],\n",
       "       [0, 0, 0, ..., 1, 0, 0],\n",
       "       [1, 0, 1, ..., 1, 0, 0]])"
      ]
     },
     "execution_count": 10,
     "metadata": {},
     "output_type": "execute_result"
    }
   ],
   "source": [
    "# Simulate 1000 random variables described above\n",
    "X = np.random.randint(0,2, (10,1000))\n",
    "X"
   ]
  },
  {
   "cell_type": "code",
   "execution_count": 17,
   "metadata": {},
   "outputs": [
    {
     "data": {
      "text/plain": [
       "array([ 5,  4,  3,  6,  7,  6,  5,  2,  3,  6,  6,  3,  6,  4,  5,  4,  4,\n",
       "        6,  4,  5,  4,  7,  5,  5,  3,  6,  5,  5,  5,  4,  5,  3,  4,  7,\n",
       "        7,  6,  5,  7,  6,  5,  6,  5,  5,  8,  4,  5,  3,  4,  3,  4,  2,\n",
       "        8,  7,  7,  4,  5,  4,  6,  6,  6,  5,  7,  3,  6,  3,  3,  5,  1,\n",
       "        4,  4,  2,  4,  5,  5,  3,  5,  3,  2,  5,  5,  9,  5,  6,  3,  6,\n",
       "        6,  5,  7,  4,  3,  5,  5,  5,  6,  7,  5,  7,  7,  6,  7,  5,  8,\n",
       "        6,  4,  7,  7,  4,  6,  7,  5,  6,  6,  5,  4,  4,  4,  6,  6,  7,\n",
       "        6,  3,  7,  4,  6,  7,  2,  7,  6,  4,  3,  3,  6,  5,  8,  3,  8,\n",
       "        3,  5,  1,  7,  6,  4,  2,  7,  2,  3,  7,  3,  7,  5,  8,  5,  8,\n",
       "        8,  9,  7,  7,  7,  6,  4,  5,  6,  4,  6,  4,  4,  2,  3,  6,  4,\n",
       "        5,  6,  7,  4,  5,  4,  8,  4, 10,  4,  4,  3,  2,  5,  7,  5,  5,\n",
       "        4,  4,  7,  6,  5,  5,  6,  5,  4,  4,  3,  7,  6,  5,  5,  3,  6,\n",
       "        6,  6,  7,  4,  3,  2,  7,  3,  9,  4,  4,  4,  8,  2,  4,  7,  6,\n",
       "        6,  4,  6,  6,  8,  3,  4,  4,  5,  7,  1,  4,  5,  6,  9,  3,  5,\n",
       "        4,  4,  4,  8,  6,  5,  5,  5,  7, 10,  6,  3,  5,  4,  6,  4,  4,\n",
       "        3,  5,  4,  8,  6,  2,  7,  4,  7,  5,  4,  6,  5,  8,  5,  8,  8,\n",
       "        5,  3,  6,  6,  5,  3,  7,  5,  4,  3,  4,  3,  3,  5,  4,  5,  3,\n",
       "        3,  3,  8,  3,  6,  8,  5,  3,  6,  9,  4,  3,  5,  6,  3,  6,  5,\n",
       "        4,  5,  9,  6,  6,  3,  6,  7,  6,  7,  3,  2,  5,  4,  5,  7,  7,\n",
       "        5,  2,  5,  5,  6,  5,  5,  5,  7,  6,  3,  6,  4,  7,  6,  4,  7,\n",
       "        3,  5,  5,  3,  6,  6,  3,  3,  3,  7,  6,  5,  2,  4,  7,  5,  5,\n",
       "        4,  5,  3,  3,  6,  5,  3,  5,  3,  6,  4,  4,  3,  6,  3,  6,  8,\n",
       "        9,  7,  5,  5,  4,  4,  7,  4,  5,  4,  3,  5,  4,  6,  7,  5,  6,\n",
       "        5,  4,  6,  5,  5,  6,  5,  7,  2,  3,  8,  4,  6,  5,  5,  3,  6,\n",
       "        5,  4,  3,  5,  4,  3,  8,  5,  4,  8,  6,  6,  5,  5,  3,  5,  5,\n",
       "        7,  3,  6,  5,  4,  6,  5,  6,  4,  3,  5,  6,  4,  3,  4,  5,  1,\n",
       "        4,  4,  5,  3,  6,  7,  5,  4,  6,  3,  4,  3,  6,  5,  7,  2,  1,\n",
       "        3,  8,  6,  5,  7,  6,  6,  7,  4,  8,  6,  4,  6,  6,  5,  2,  6,\n",
       "        5,  6,  4,  4,  2,  5,  6,  2,  5,  5,  5,  4,  6,  6,  3,  4,  4,\n",
       "        5,  4,  2,  5,  7,  4,  6,  6,  2,  5,  2,  2,  4,  4,  5,  3,  4,\n",
       "        3,  5,  9,  5,  4,  7,  5,  5,  4,  2,  6,  8,  4,  5,  5,  4,  4,\n",
       "        8,  7,  4,  2,  6,  2,  6,  4,  3,  6,  5,  5,  4,  5,  5,  6,  6,\n",
       "        4,  5,  7,  3,  5,  3,  4,  8,  4,  4,  6,  5,  6,  5,  7,  6,  4,\n",
       "        5,  2,  5,  3,  7,  3,  6,  5,  5,  4,  2,  4,  4,  6,  4,  7,  4,\n",
       "        6,  1,  6,  6,  8,  6,  2,  6,  6,  4,  6,  7,  4,  6,  7,  2,  4,\n",
       "        2,  7,  5,  3,  3,  3,  5,  5,  6,  5,  5,  6,  8,  7,  8,  5,  5,\n",
       "        5,  4,  7,  4,  3,  4,  7,  6,  3,  5,  6,  7,  4,  2,  5,  4,  9,\n",
       "        4,  8,  4,  4,  7,  6,  7,  6,  3,  3,  7,  4,  7, 10,  8,  6,  7,\n",
       "        8,  5,  5,  6,  4,  5,  7,  5,  5,  3,  4,  5,  3,  5,  5,  5,  4,\n",
       "        6,  7,  7,  7,  5,  7,  5,  4,  5,  5,  7,  5,  7,  4,  5,  2,  4,\n",
       "        7,  8,  6,  5,  7,  6,  5,  7,  5,  4,  6,  3,  5,  4,  5,  5,  3,\n",
       "        8,  8,  7,  6,  6,  4,  6,  6,  5,  3,  6,  5,  1,  7,  3,  3,  5,\n",
       "        6,  3,  5,  3,  6,  3,  8,  6,  8,  7,  6,  4,  2,  7,  6,  1,  6,\n",
       "        6,  6,  3,  3,  5,  2,  4,  4,  2,  6,  3,  5,  5,  3,  7,  5,  5,\n",
       "        4,  7,  5,  4,  7,  6,  5,  6,  6,  6,  3,  6,  2,  5,  5,  5,  3,\n",
       "        7,  6,  6,  8,  0,  5,  4,  4,  3,  8,  5,  6,  3,  7,  6,  5,  5,\n",
       "        2,  3,  5,  2,  4,  5,  5,  7,  4,  6,  5,  4,  3,  6,  5,  6,  4,\n",
       "        3,  4,  2,  4,  8,  4,  5,  7,  9,  4,  6,  5,  8,  2,  3,  4,  4,\n",
       "        7,  4,  1,  2,  5,  6,  4,  5,  5,  3,  3,  5,  3,  7,  5,  6,  6,\n",
       "        5,  3,  4,  5,  5,  5,  5,  7,  5,  4,  4,  5,  8,  6,  5,  4,  5,\n",
       "        6,  7,  4,  2,  4,  7,  6,  5,  5,  6,  5,  3,  3,  6,  4,  7,  6,\n",
       "        5,  8,  9,  6,  5,  5,  6,  5,  5,  9,  9,  9,  8,  5,  6,  9,  1,\n",
       "        4,  6,  8,  1,  5,  5,  4,  4,  6,  4,  5,  6,  5,  6,  6,  4,  3,\n",
       "        5,  3,  4,  4,  2,  4,  4,  4,  3,  3,  4,  5,  4,  5,  7,  6,  4,\n",
       "        2,  4,  4,  7,  3,  3,  3,  5,  3,  5,  3,  6,  7,  6,  4,  4,  4,\n",
       "        4,  5,  4,  5,  4,  3,  7,  5,  4,  6,  3,  3,  4,  3,  3,  7,  5,\n",
       "        4,  3,  4,  4,  5,  7,  6,  6,  6,  8,  6,  8,  8,  5,  1,  3,  4,\n",
       "        4,  5,  6,  3,  5,  6,  6,  5,  4,  5,  3,  5,  4,  6,  5,  4,  6,\n",
       "        5,  3,  7,  6,  5,  3,  5,  5,  6,  6,  5,  4,  3,  1])"
      ]
     },
     "execution_count": 17,
     "metadata": {},
     "output_type": "execute_result"
    }
   ],
   "source": [
    "# Sum the random variables to find our frequency and develop and distribution\n",
    "Y = X.sum(axis=0)\n",
    "Y"
   ]
  },
  {
   "cell_type": "code",
   "execution_count": 23,
   "metadata": {},
   "outputs": [
    {
     "data": {
      "image/png": "[encoded data removed]",
      "text/plain": [
       "<matplotlib.figure.Figure at 0x10ff86c50>"
      ]
     },
     "metadata": {},
     "output_type": "display_data"
    }
   ],
   "source": [
    "D = plt.hist(Y)"
   ]
  },
  {
   "cell_type": "markdown",
   "metadata": {},
   "source": [
    "\n",
    "* The average value of $v_\\text{min}$ is closest to:\n",
    "\n",
    "    [a] 0\n",
    "    \n",
    "    [b] 0.01\n",
    "    \n",
    "    [c] 0.1\n",
    "    \n",
    "    [d] 0.5\n",
    "    \n",
    "    [e] 0.67"
   ]
  },
  {
   "cell_type": "markdown",
   "metadata": {},
   "source": [
    "* Which coin(s) has a distribution of $v$ that satisfies the (single-bin) Hoeffding Inequality?\n",
    "\n",
    "    [a] $c_1$ only\n",
    "    \n",
    "    [b] $c_\\text{rand}$ only\n",
    "    \n",
    "    [c] $c_\\text{min}$ only\n",
    "    \n",
    "    [d] $c_1$ and $c_\\text{rand}$\n",
    "    \n",
    "    [e] $c_\\text{min}$ and $c_\\text{rand}"
   ]
  },
  {
   "cell_type": "code",
   "execution_count": null,
   "metadata": {
    "collapsed": true
   },
   "outputs": [],
   "source": []
  }
 ],
 "metadata": {
  "kernelspec": {
   "display_name": "Python 3",
   "language": "python",
   "name": "python3"
  },
  "language_info": {
   "codemirror_mode": {
    "name": "ipython",
    "version": 3
   },
   "file_extension": ".py",
   "mimetype": "text/x-python",
   "name": "python",
   "nbconvert_exporter": "python",
   "pygments_lexer": "ipython3",
   "version": "3.6.2"
  }
 },
 "nbformat": 4,
 "nbformat_minor": 2
}
