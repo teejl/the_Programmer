{
 "cells": [
  {
   "cell_type": "markdown",
   "metadata": {},
   "source": [
    "## Hoeffding Inequality"
   ]
  },
  {
   "cell_type": "markdown",
   "metadata": {},
   "source": [
    "Run a Computer simulation for flipping 1,000 virtual fair coins. Flip each coin independently 10 times. Focus on 3 coins as follows: $c_1$ is the first coin flipped, $c_{\\text{rand}}$ is a coin chosen randomly from the 1,000, and $c_{\\text{min}}$ is the coin which had the minimum frequency of heads (pick the earlier one in case of a tie). Let $v_1$, $v_{\\text{rand}}$, and $v_{\\text{min}}$ be the <em>fraction</em> of heads obtained for the 3 respective coins out of the 10 tosses.\n",
    "\n",
    "Run the experiment 100,000 times in order to get a full distribution of $v_1$, $v_{\\text{rand}}$, and $v_{\\text{min}}$ (note that $c_{\\text{rand}}$ and $c_{\\text{min}}$ will change from run to run)."
   ]
  },
  {
   "cell_type": "markdown",
   "metadata": {},
   "source": [
    "___\n",
    "\n",
    "*We want to run this experiment, but first let's bring up some helpful definitions:*\n",
    "\n",
    "**Random Variable** (http://mathworld.wolfram.com/RandomVariable.html)\n",
    "\n",
    "A random variable is a measurable function from a probability space (S,S,P) into a measurable space (S^',S^') known as the state space (Doob 1996). Papoulis (1984, p. 88) gives the slightly different definition of a random variable X as a real function whose domain is the probability space S and such that:\n",
    "\n",
    "1. The set {X<=x} is an event for any real number x.\n",
    "\n",
    "2. The probability of the events {X=+infty} and {X=-infty} equals zero.\n",
    "\n",
    "The abbreviation \"r.v.\" is sometimes used to denote a random variable.\n",
    "\n",
    "___"
   ]
  },
  {
   "cell_type": "markdown",
   "metadata": {},
   "source": [
    "Each $c_\\text{i}$ and $v_\\text{i}$ are random variables. To be more specific it is the number of heads that come up for 10 coin tosses. Assuming the coin is fair the chances to land on a head is the same to land on a tail, $1/2$. Let us simulate this random variable with some cute Python code."
   ]
  },
  {
   "cell_type": "code",
   "execution_count": 16,
   "metadata": {},
   "outputs": [],
   "source": [
    "# Import Packages\n",
    "import numpy as np\n",
    "import matplotlib.pyplot as plt\n",
    "%matplotlib inline"
   ]
  },
  {
   "cell_type": "code",
   "execution_count": 5,
   "metadata": {},
   "outputs": [
    {
     "data": {
      "text/plain": [
       "7"
      ]
     },
     "execution_count": 5,
     "metadata": {},
     "output_type": "execute_result"
    }
   ],
   "source": [
    "# Simulate a single random variable, number of heads on 10 coin flips\n",
    "np.random.randint(0,2,10).sum()"
   ]
  },
  {
   "cell_type": "code",
   "execution_count": 30,
   "metadata": {},
   "outputs": [
    {
     "data": {
      "text/plain": [
       "array([[0, 1, 1, ..., 1, 0, 1],\n",
       "       [0, 1, 1, ..., 0, 1, 1],\n",
       "       [0, 0, 1, ..., 0, 1, 0],\n",
       "       ..., \n",
       "       [0, 0, 0, ..., 1, 0, 0],\n",
       "       [1, 0, 1, ..., 1, 0, 0],\n",
       "       [0, 1, 0, ..., 0, 0, 0]])"
      ]
     },
     "execution_count": 30,
     "metadata": {},
     "output_type": "execute_result"
    }
   ],
   "source": [
    "# Simulate 1000 random variables described above\n",
    "X = np.random.randint(0,2, (10,10000))\n",
    "X"
   ]
  },
  {
   "cell_type": "code",
   "execution_count": 31,
   "metadata": {},
   "outputs": [
    {
     "data": {
      "text/plain": [
       "array([3, 3, 5, ..., 6, 4, 4])"
      ]
     },
     "execution_count": 31,
     "metadata": {},
     "output_type": "execute_result"
    }
   ],
   "source": [
    "# Sum the random variables to find our frequency and develop a distribution\n",
    "Y = X.sum(axis=0)\n",
    "Y"
   ]
  },
  {
   "cell_type": "code",
   "execution_count": 33,
   "metadata": {},
   "outputs": [
    {
     "data": {
      "text/plain": [
       "(4, 0)"
      ]
     },
     "execution_count": 33,
     "metadata": {},
     "output_type": "execute_result"
    }
   ],
   "source": [
    "Y.argmin(), Y[Y.argmin()] # print the place of the minimum, and proof it is the minimum EX: Place 770"
   ]
  },
  {
   "cell_type": "code",
   "execution_count": 38,
   "metadata": {},
   "outputs": [
    {
     "data": {
      "image/png": "[encoded data removed]",
      "text/plain": [
       "<matplotlib.figure.Figure at 0x1104685f8>"
      ]
     },
     "metadata": {},
     "output_type": "display_data"
    }
   ],
   "source": [
    "D = plt.hist(Y) # Distribution of one single r.v."
   ]
  },
  {
   "cell_type": "code",
   "execution_count": 39,
   "metadata": {},
   "outputs": [
    {
     "data": {
      "image/png": "[encoded data removed]",
      "text/plain": [
       "<matplotlib.figure.Figure at 0x110468588>"
      ]
     },
     "metadata": {},
     "output_type": "display_data"
    }
   ],
   "source": [
    "D_1 = plt.hist(np.random.randint(0,2, (10,100000000)).sum(axis=0)) # Run 100,000 trials of 1000 flips = 1mill flips \n",
    "#V_1:"
   ]
  },
  {
   "cell_type": "code",
   "execution_count": 52,
   "metadata": {},
   "outputs": [
    {
     "data": {
      "image/png": "[encoded data removed]",
      "text/plain": [
       "<matplotlib.figure.Figure at 0x11098c3c8>"
      ]
     },
     "metadata": {},
     "output_type": "display_data"
    }
   ],
   "source": [
    "R = [] # create an empty list\n",
    "for i in range(100000): # Repeat the experiment for 100,000 trials\n",
    "    R.append(np.random.randint(0,2, (10,1000)).sum(axis=0)[np.random.randint(0,1000)])\n",
    "D_r = plt.hist(R) # Map the distribution\n",
    "#V_min:"
   ]
  },
  {
   "cell_type": "code",
   "execution_count": 75,
   "metadata": {},
   "outputs": [
    {
     "data": {
      "image/png": "[encoded data removed]",
      "text/plain": [
       "<matplotlib.figure.Figure at 0x1103e8e80>"
      ]
     },
     "metadata": {},
     "output_type": "display_data"
    }
   ],
   "source": [
    "U = [] # create an empty list\n",
    "for i in range(100000): # Repeat the experiment for 100,000 trials\n",
    "    # U.append(np.random.randint(0,2, (10,1000)).sum(axis=0).argmin()) # Misunderstood assignment\n",
    "    U.append(np.random.randint(0,2, (10,1000)).sum(axis=0).min()/10)\n",
    "D_min = plt.hist(U) # Map the distribution\n",
    "#V_min:"
   ]
  },
  {
   "cell_type": "code",
   "execution_count": 76,
   "metadata": {},
   "outputs": [
    {
     "data": {
      "text/plain": [
       "0.037889000000000006"
      ]
     },
     "execution_count": 76,
     "metadata": {},
     "output_type": "execute_result"
    }
   ],
   "source": [
    "A = np.array(U)\n",
    "A.mean() # The average of V_min"
   ]
  },
  {
   "cell_type": "markdown",
   "metadata": {},
   "source": [
    "* The average value of $v_\\text{min}$ is closest to:\n",
    "\n",
    "    [a] 0\n",
    "    \n",
    "    [b] 0.01\n",
    "    \n",
    "    [c] 0.1\n",
    "    \n",
    "    [d] 0.5\n",
    "    \n",
    "    [e] 0.67"
   ]
  },
  {
   "cell_type": "markdown",
   "metadata": {},
   "source": [
    "* Which coin(s) has a distribution of $v$ that satisfies the (single-bin) Hoeffding Inequality?\n",
    "\n",
    "    [a] $c_1$ only\n",
    "    \n",
    "    [b] $c_\\text{rand}$ only\n",
    "    \n",
    "    [c] $c_\\text{min}$ only\n",
    "    \n",
    "    [d] $c_1$ and $c_\\text{rand}$\n",
    "    \n",
    "    [e] $c_\\text{min}$ and $c_\\text{rand}"
   ]
  },
  {
   "cell_type": "code",
   "execution_count": null,
   "metadata": {
    "collapsed": true
   },
   "outputs": [],
   "source": []
  }
 ],
 "metadata": {
  "kernelspec": {
   "display_name": "Python 3",
   "language": "python",
   "name": "python3"
  },
  "language_info": {
   "codemirror_mode": {
    "name": "ipython",
    "version": 3
   },
   "file_extension": ".py",
   "mimetype": "text/x-python",
   "name": "python",
   "nbconvert_exporter": "python",
   "pygments_lexer": "ipython3",
   "version": "3.6.2"
  }
 },
 "nbformat": 4,
 "nbformat_minor": 2
}
