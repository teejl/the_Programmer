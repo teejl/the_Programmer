{
 "cells": [
  {
   "cell_type": "markdown",
   "metadata": {},
   "source": [
    "## Hoeffding Inequality"
   ]
  },
  {
   "cell_type": "markdown",
   "metadata": {},
   "source": [
    "Run a Computer simulation for flipping 1,000 virtual fair coins. Flip each coin independently 10 times. Focus on 3 coins as follows: $c_1$ is the first coin flipped, $c_{\\text{rand}}$ is a coin chosen randomly from the 1,000, and $c_{\\text{min}}$ is the coin which had the minimum frequency of heads (pick the earlier one in case of a tie). Let $v_1$, $v_{\\text{rand}}$, and $v_{\\text{min}}$ be the <em>fraction</em> of heads obtained for the 3 respective coins out of the 10 tosses.\n",
    "\n",
    "Run the experiment 100,000 times in order to get a full distribution of $v_1$, $v_{\\text{rand}}$, and $v_{\\text{min}}$ (note that $c_{\\text{rand}}$ and $c_{\\text{min}}$ will change from run to run)."
   ]
  },
  {
   "cell_type": "raw",
   "metadata": {},
   "source": [
    "\\begin{enumerate}\n",
    "\n",
    "\\item The average value of $v_\\text{min}$ is closest to:\n",
    "\n",
    "    [a] 0\n",
    "    \n",
    "    [b] 0.01\n",
    "    \n",
    "    [c] 0.1\n",
    "    \n",
    "    [d] 0.5\n",
    "    \n",
    "    [e] 0.67\n",
    "    \n",
    "\\item Which coin(s) has a distribution of $v$ that satisfies the (single-bin) Hoeffding Inequality?\n",
    "\n",
    "    [a] $c_1$ only\n",
    "    \n",
    "    [b] $c_\\text{rand}$ only\n",
    "    \n",
    "    [c] $c_\\text{min}$ only\n",
    "    \n",
    "    [d] $c_1$ and $c_\\text{rand}$\n",
    "    \n",
    "    [e] $c_\\text{min}$ and $c_\\text{rand}\n",
    "\n",
    "\\end{enumerate}"
   ]
  },
  {
   "cell_type": "markdown",
   "metadata": {},
   "source": []
  },
  {
   "cell_type": "code",
   "execution_count": null,
   "metadata": {
    "collapsed": true
   },
   "outputs": [],
   "source": []
  }
 ],
 "metadata": {
  "kernelspec": {
   "display_name": "Python 3",
   "language": "python",
   "name": "python3"
  },
  "language_info": {
   "codemirror_mode": {
    "name": "ipython",
    "version": 3
   },
   "file_extension": ".py",
   "mimetype": "text/x-python",
   "name": "python",
   "nbconvert_exporter": "python",
   "pygments_lexer": "ipython3",
   "version": "3.6.2"
  }
 },
 "nbformat": 4,
 "nbformat_minor": 2
}
